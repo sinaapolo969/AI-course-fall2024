{
 "cells": [
  {
   "cell_type": "code",
   "execution_count": null,
   "metadata": {},
   "outputs": [],
   "source": [
    "from Agent import * \n",
    "from environment import *\n",
    "\n",
    "# Create the environment\n",
    "env = SnakeRubikEnvironment()\n",
    "# Create the agent\n",
    "agent = SnakeRubikAgent(env)\n",
    "# Solve the Snake Rubik problem using A* Search\n",
    "solution = agent.a_star()\n",
    "# Print the solution\n",
    "print(solution)"
   ]
  }
 ],
 "metadata": {
  "kernelspec": {
   "display_name": "Python 3",
   "language": "python",
   "name": "python3"
  },
  "language_info": {
   "codemirror_mode": {
    "name": "ipython",
    "version": 3
   },
   "file_extension": ".py",
   "mimetype": "text/x-python",
   "name": "python",
   "nbconvert_exporter": "python",
   "pygments_lexer": "ipython3",
   "version": "3.11.9"
  }
 },
 "nbformat": 4,
 "nbformat_minor": 2
}
